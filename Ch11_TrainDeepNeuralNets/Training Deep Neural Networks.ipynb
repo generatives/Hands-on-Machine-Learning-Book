{
 "cells": [
  {
   "cell_type": "code",
   "execution_count": 1,
   "metadata": {},
   "outputs": [],
   "source": [
    "from tensorflow import keras\n",
    "from functools import partial\n",
    "\n",
    "StandardLayer = partial(keras.layers.Dense, activation=\"elu\", kernel_initializer=\"he_normal\")"
   ]
  },
  {
   "cell_type": "code",
   "execution_count": 2,
   "metadata": {},
   "outputs": [],
   "source": [
    "(X_train_full, y_train_full), (X_test, y_test) = keras.datasets.cifar10.load_data()"
   ]
  },
  {
   "cell_type": "code",
   "execution_count": 3,
   "metadata": {},
   "outputs": [
    {
     "data": {
      "text/plain": [
       "(50000, 32, 32, 3)"
      ]
     },
     "execution_count": 3,
     "metadata": {},
     "output_type": "execute_result"
    }
   ],
   "source": [
    "X_train_full.shape"
   ]
  },
  {
   "cell_type": "code",
   "execution_count": 4,
   "metadata": {},
   "outputs": [
    {
     "data": {
      "text/plain": [
       "255"
      ]
     },
     "execution_count": 4,
     "metadata": {},
     "output_type": "execute_result"
    }
   ],
   "source": [
    "X_train_full[0].max()"
   ]
  },
  {
   "cell_type": "code",
   "execution_count": 5,
   "metadata": {},
   "outputs": [],
   "source": [
    "X_valid, X_train = X_train_full[:5000], X_train_full[5000:]\n",
    "y_valid, y_train = y_train_full[:5000], y_train_full[5000:]"
   ]
  },
  {
   "cell_type": "code",
   "execution_count": 6,
   "metadata": {},
   "outputs": [
    {
     "data": {
      "text/plain": [
       "(45000, 1)"
      ]
     },
     "execution_count": 6,
     "metadata": {},
     "output_type": "execute_result"
    }
   ],
   "source": [
    "y_train.shape"
   ]
  },
  {
   "cell_type": "code",
   "execution_count": 7,
   "metadata": {},
   "outputs": [],
   "source": [
    "model = keras.models.Sequential()\n",
    "model.add(keras.layers.Flatten(input_shape=[32,32,3]))\n",
    "\n",
    "for i in range(0, 20):\n",
    "    model.add(StandardLayer(100))\n",
    "\n",
    "model.add(keras.layers.Dense(10, activation=\"softmax\", kernel_initializer=\"he_normal\"))"
   ]
  },
  {
   "cell_type": "code",
   "execution_count": 8,
   "metadata": {},
   "outputs": [],
   "source": [
    "model.compile(loss=\"sparse_categorical_crossentropy\",\n",
    "             optimizer=keras.optimizers.Nadam(lr=5e-5),\n",
    "             metrics=[\"accuracy\"])"
   ]
  },
  {
   "cell_type": "code",
   "execution_count": 9,
   "metadata": {},
   "outputs": [],
   "source": [
    "import os\n",
    "root_logdir = os.path.join(os.curdir, \"my_logs\")\n",
    "\n",
    "def get_run_logdir():\n",
    "    import time\n",
    "    run_id = time.strftime(\"run_%Y_%m_%d_-%H_%M_%S\")\n",
    "    return os.path.join(root_logdir, run_id)\n",
    "\n",
    "run_logdir = get_run_logdir()"
   ]
  },
  {
   "cell_type": "code",
   "execution_count": 11,
   "metadata": {
    "scrolled": true
   },
   "outputs": [
    {
     "name": "stdout",
     "output_type": "stream",
     "text": [
      "The tensorboard extension is already loaded. To reload it, use:\n",
      "  %reload_ext tensorboard\n"
     ]
    },
    {
     "data": {
      "text/plain": [
       "Launching TensorBoard..."
      ]
     },
     "metadata": {},
     "output_type": "display_data"
    },
    {
     "ename": "KeyboardInterrupt",
     "evalue": "",
     "output_type": "error",
     "traceback": [
      "\u001b[1;31m---------------------------------------------------------------------------\u001b[0m",
      "\u001b[1;31mKeyboardInterrupt\u001b[0m                         Traceback (most recent call last)",
      "\u001b[1;32m<ipython-input-11-6b3d9372f84d>\u001b[0m in \u001b[0;36m<module>\u001b[1;34m\u001b[0m\n\u001b[0;32m      1\u001b[0m \u001b[0mget_ipython\u001b[0m\u001b[1;33m(\u001b[0m\u001b[1;33m)\u001b[0m\u001b[1;33m.\u001b[0m\u001b[0mrun_line_magic\u001b[0m\u001b[1;33m(\u001b[0m\u001b[1;34m'load_ext'\u001b[0m\u001b[1;33m,\u001b[0m \u001b[1;34m'tensorboard'\u001b[0m\u001b[1;33m)\u001b[0m\u001b[1;33m\u001b[0m\u001b[1;33m\u001b[0m\u001b[0m\n\u001b[1;32m----> 2\u001b[1;33m \u001b[0mget_ipython\u001b[0m\u001b[1;33m(\u001b[0m\u001b[1;33m)\u001b[0m\u001b[1;33m.\u001b[0m\u001b[0mrun_line_magic\u001b[0m\u001b[1;33m(\u001b[0m\u001b[1;34m'tensorboard'\u001b[0m\u001b[1;33m,\u001b[0m \u001b[1;34m'--logdir=./my_logs --port=6007'\u001b[0m\u001b[1;33m)\u001b[0m\u001b[1;33m\u001b[0m\u001b[1;33m\u001b[0m\u001b[0m\n\u001b[0m",
      "\u001b[1;32m~\\Anaconda3\\lib\\site-packages\\IPython\\core\\interactiveshell.py\u001b[0m in \u001b[0;36mrun_line_magic\u001b[1;34m(self, magic_name, line, _stack_depth)\u001b[0m\n\u001b[0;32m   2325\u001b[0m                 \u001b[0mkwargs\u001b[0m\u001b[1;33m[\u001b[0m\u001b[1;34m'local_ns'\u001b[0m\u001b[1;33m]\u001b[0m \u001b[1;33m=\u001b[0m \u001b[0mself\u001b[0m\u001b[1;33m.\u001b[0m\u001b[0mget_local_scope\u001b[0m\u001b[1;33m(\u001b[0m\u001b[0mstack_depth\u001b[0m\u001b[1;33m)\u001b[0m\u001b[1;33m\u001b[0m\u001b[1;33m\u001b[0m\u001b[0m\n\u001b[0;32m   2326\u001b[0m             \u001b[1;32mwith\u001b[0m \u001b[0mself\u001b[0m\u001b[1;33m.\u001b[0m\u001b[0mbuiltin_trap\u001b[0m\u001b[1;33m:\u001b[0m\u001b[1;33m\u001b[0m\u001b[1;33m\u001b[0m\u001b[0m\n\u001b[1;32m-> 2327\u001b[1;33m                 \u001b[0mresult\u001b[0m \u001b[1;33m=\u001b[0m \u001b[0mfn\u001b[0m\u001b[1;33m(\u001b[0m\u001b[1;33m*\u001b[0m\u001b[0margs\u001b[0m\u001b[1;33m,\u001b[0m \u001b[1;33m**\u001b[0m\u001b[0mkwargs\u001b[0m\u001b[1;33m)\u001b[0m\u001b[1;33m\u001b[0m\u001b[1;33m\u001b[0m\u001b[0m\n\u001b[0m\u001b[0;32m   2328\u001b[0m             \u001b[1;32mreturn\u001b[0m \u001b[0mresult\u001b[0m\u001b[1;33m\u001b[0m\u001b[1;33m\u001b[0m\u001b[0m\n\u001b[0;32m   2329\u001b[0m \u001b[1;33m\u001b[0m\u001b[0m\n",
      "\u001b[1;32m~\\Anaconda3\\lib\\site-packages\\tensorboard\\notebook.py\u001b[0m in \u001b[0;36m_start_magic\u001b[1;34m(line)\u001b[0m\n\u001b[0;32m    126\u001b[0m \u001b[1;32mdef\u001b[0m \u001b[0m_start_magic\u001b[0m\u001b[1;33m(\u001b[0m\u001b[0mline\u001b[0m\u001b[1;33m)\u001b[0m\u001b[1;33m:\u001b[0m\u001b[1;33m\u001b[0m\u001b[1;33m\u001b[0m\u001b[0m\n\u001b[0;32m    127\u001b[0m     \u001b[1;34m\"\"\"Implementation of the `%tensorboard` line magic.\"\"\"\u001b[0m\u001b[1;33m\u001b[0m\u001b[1;33m\u001b[0m\u001b[0m\n\u001b[1;32m--> 128\u001b[1;33m     \u001b[1;32mreturn\u001b[0m \u001b[0mstart\u001b[0m\u001b[1;33m(\u001b[0m\u001b[0mline\u001b[0m\u001b[1;33m)\u001b[0m\u001b[1;33m\u001b[0m\u001b[1;33m\u001b[0m\u001b[0m\n\u001b[0m\u001b[0;32m    129\u001b[0m \u001b[1;33m\u001b[0m\u001b[0m\n\u001b[0;32m    130\u001b[0m \u001b[1;33m\u001b[0m\u001b[0m\n",
      "\u001b[1;32m~\\Anaconda3\\lib\\site-packages\\tensorboard\\notebook.py\u001b[0m in \u001b[0;36mstart\u001b[1;34m(args_string)\u001b[0m\n\u001b[0;32m    160\u001b[0m \u001b[1;33m\u001b[0m\u001b[0m\n\u001b[0;32m    161\u001b[0m     \u001b[0mparsed_args\u001b[0m \u001b[1;33m=\u001b[0m \u001b[0mshlex\u001b[0m\u001b[1;33m.\u001b[0m\u001b[0msplit\u001b[0m\u001b[1;33m(\u001b[0m\u001b[0margs_string\u001b[0m\u001b[1;33m,\u001b[0m \u001b[0mcomments\u001b[0m\u001b[1;33m=\u001b[0m\u001b[1;32mTrue\u001b[0m\u001b[1;33m,\u001b[0m \u001b[0mposix\u001b[0m\u001b[1;33m=\u001b[0m\u001b[1;32mTrue\u001b[0m\u001b[1;33m)\u001b[0m\u001b[1;33m\u001b[0m\u001b[1;33m\u001b[0m\u001b[0m\n\u001b[1;32m--> 162\u001b[1;33m     \u001b[0mstart_result\u001b[0m \u001b[1;33m=\u001b[0m \u001b[0mmanager\u001b[0m\u001b[1;33m.\u001b[0m\u001b[0mstart\u001b[0m\u001b[1;33m(\u001b[0m\u001b[0mparsed_args\u001b[0m\u001b[1;33m)\u001b[0m\u001b[1;33m\u001b[0m\u001b[1;33m\u001b[0m\u001b[0m\n\u001b[0m\u001b[0;32m    163\u001b[0m \u001b[1;33m\u001b[0m\u001b[0m\n\u001b[0;32m    164\u001b[0m     \u001b[1;32mif\u001b[0m \u001b[0misinstance\u001b[0m\u001b[1;33m(\u001b[0m\u001b[0mstart_result\u001b[0m\u001b[1;33m,\u001b[0m \u001b[0mmanager\u001b[0m\u001b[1;33m.\u001b[0m\u001b[0mStartLaunched\u001b[0m\u001b[1;33m)\u001b[0m\u001b[1;33m:\u001b[0m\u001b[1;33m\u001b[0m\u001b[1;33m\u001b[0m\u001b[0m\n",
      "\u001b[1;32m~\\Anaconda3\\lib\\site-packages\\tensorboard\\manager.py\u001b[0m in \u001b[0;36mstart\u001b[1;34m(arguments, timeout)\u001b[0m\n\u001b[0;32m    423\u001b[0m     \u001b[0mend_time_seconds\u001b[0m \u001b[1;33m=\u001b[0m \u001b[0mstart_time_seconds\u001b[0m \u001b[1;33m+\u001b[0m \u001b[0mtimeout\u001b[0m\u001b[1;33m.\u001b[0m\u001b[0mtotal_seconds\u001b[0m\u001b[1;33m(\u001b[0m\u001b[1;33m)\u001b[0m\u001b[1;33m\u001b[0m\u001b[1;33m\u001b[0m\u001b[0m\n\u001b[0;32m    424\u001b[0m     \u001b[1;32mwhile\u001b[0m \u001b[0mtime\u001b[0m\u001b[1;33m.\u001b[0m\u001b[0mtime\u001b[0m\u001b[1;33m(\u001b[0m\u001b[1;33m)\u001b[0m \u001b[1;33m<\u001b[0m \u001b[0mend_time_seconds\u001b[0m\u001b[1;33m:\u001b[0m\u001b[1;33m\u001b[0m\u001b[1;33m\u001b[0m\u001b[0m\n\u001b[1;32m--> 425\u001b[1;33m         \u001b[0mtime\u001b[0m\u001b[1;33m.\u001b[0m\u001b[0msleep\u001b[0m\u001b[1;33m(\u001b[0m\u001b[0mpoll_interval_seconds\u001b[0m\u001b[1;33m)\u001b[0m\u001b[1;33m\u001b[0m\u001b[1;33m\u001b[0m\u001b[0m\n\u001b[0m\u001b[0;32m    426\u001b[0m         \u001b[0msubprocess_result\u001b[0m \u001b[1;33m=\u001b[0m \u001b[0mp\u001b[0m\u001b[1;33m.\u001b[0m\u001b[0mpoll\u001b[0m\u001b[1;33m(\u001b[0m\u001b[1;33m)\u001b[0m\u001b[1;33m\u001b[0m\u001b[1;33m\u001b[0m\u001b[0m\n\u001b[0;32m    427\u001b[0m         \u001b[1;32mif\u001b[0m \u001b[0msubprocess_result\u001b[0m \u001b[1;32mis\u001b[0m \u001b[1;32mnot\u001b[0m \u001b[1;32mNone\u001b[0m\u001b[1;33m:\u001b[0m\u001b[1;33m\u001b[0m\u001b[1;33m\u001b[0m\u001b[0m\n",
      "\u001b[1;31mKeyboardInterrupt\u001b[0m: "
     ]
    }
   ],
   "source": [
    "%load_ext tensorboard\n",
    "%tensorboard --logdir=./my_logs --port=6007"
   ]
  },
  {
   "cell_type": "code",
   "execution_count": 12,
   "metadata": {},
   "outputs": [
    {
     "name": "stdout",
     "output_type": "stream",
     "text": [
      "Epoch 1/100\n",
      "   1/1407 [..............................] - ETA: 1s - loss: 116.2598 - accuracy: 0.1250WARNING:tensorflow:From C:\\Users\\deaston\\Anaconda3\\lib\\site-packages\\tensorflow\\python\\ops\\summary_ops_v2.py:1277: stop (from tensorflow.python.eager.profiler) is deprecated and will be removed after 2020-07-01.\n",
      "Instructions for updating:\n",
      "use `tf.profiler.experimental.stop` instead.\n",
      "   2/1407 [..............................] - ETA: 1:16 - loss: 107.4174 - accuracy: 0.0781WARNING:tensorflow:Callbacks method `on_train_batch_end` is slow compared to the batch time (batch time: 0.0100s vs `on_train_batch_end` time: 0.0970s). Check your callbacks.\n",
      "1407/1407 [==============================] - 12s 8ms/step - loss: 4.0447 - accuracy: 0.1708 - val_loss: 2.6408 - val_accuracy: 0.1680\n",
      "Epoch 2/100\n",
      "1407/1407 [==============================] - 12s 8ms/step - loss: 2.0847 - accuracy: 0.2398 - val_loss: 2.0217 - val_accuracy: 0.2656\n",
      "Epoch 3/100\n",
      "1407/1407 [==============================] - 12s 8ms/step - loss: 1.9703 - accuracy: 0.2840 - val_loss: 1.9312 - val_accuracy: 0.3084\n",
      "Epoch 4/100\n",
      "1407/1407 [==============================] - 12s 8ms/step - loss: 1.8907 - accuracy: 0.3131 - val_loss: 1.9108 - val_accuracy: 0.2924\n",
      "Epoch 5/100\n",
      "1407/1407 [==============================] - 11s 8ms/step - loss: 1.8255 - accuracy: 0.3377 - val_loss: 1.8413 - val_accuracy: 0.3222\n",
      "Epoch 6/100\n",
      "1407/1407 [==============================] - 11s 8ms/step - loss: 1.7704 - accuracy: 0.3606 - val_loss: 1.7993 - val_accuracy: 0.3574\n",
      "Epoch 7/100\n",
      "1407/1407 [==============================] - 12s 8ms/step - loss: 1.7232 - accuracy: 0.3790 - val_loss: 1.7395 - val_accuracy: 0.3736\n",
      "Epoch 8/100\n",
      "1407/1407 [==============================] - 12s 8ms/step - loss: 1.6863 - accuracy: 0.3940 - val_loss: 1.7696 - val_accuracy: 0.3718\n",
      "Epoch 9/100\n",
      "1407/1407 [==============================] - 12s 9ms/step - loss: 1.6531 - accuracy: 0.4034 - val_loss: 1.7125 - val_accuracy: 0.3758\n",
      "Epoch 10/100\n",
      "1407/1407 [==============================] - 12s 8ms/step - loss: 1.6266 - accuracy: 0.4129 - val_loss: 1.6422 - val_accuracy: 0.4074\n",
      "Epoch 11/100\n",
      "1407/1407 [==============================] - 12s 9ms/step - loss: 1.5994 - accuracy: 0.4252 - val_loss: 1.6274 - val_accuracy: 0.4200\n",
      "Epoch 12/100\n",
      "1407/1407 [==============================] - 12s 8ms/step - loss: 1.5787 - accuracy: 0.4314 - val_loss: 1.6488 - val_accuracy: 0.4086\n",
      "Epoch 13/100\n",
      "1407/1407 [==============================] - 13s 9ms/step - loss: 1.5573 - accuracy: 0.4394 - val_loss: 1.5871 - val_accuracy: 0.4330\n",
      "Epoch 14/100\n",
      "1407/1407 [==============================] - 12s 9ms/step - loss: 1.5416 - accuracy: 0.4477 - val_loss: 1.6420 - val_accuracy: 0.4090\n",
      "Epoch 15/100\n",
      "1407/1407 [==============================] - 13s 9ms/step - loss: 1.5251 - accuracy: 0.4532 - val_loss: 1.5848 - val_accuracy: 0.4258\n",
      "Epoch 16/100\n",
      "1407/1407 [==============================] - 12s 9ms/step - loss: 1.5054 - accuracy: 0.4625 - val_loss: 1.5835 - val_accuracy: 0.4338\n",
      "Epoch 17/100\n",
      "1407/1407 [==============================] - 12s 9ms/step - loss: 1.4926 - accuracy: 0.4672 - val_loss: 1.5852 - val_accuracy: 0.4236\n",
      "Epoch 18/100\n",
      "1407/1407 [==============================] - 12s 8ms/step - loss: 1.4782 - accuracy: 0.4720 - val_loss: 1.6152 - val_accuracy: 0.4222\n",
      "Epoch 19/100\n",
      "1407/1407 [==============================] - 11s 8ms/step - loss: 1.4633 - accuracy: 0.4770 - val_loss: 1.5742 - val_accuracy: 0.4336\n",
      "Epoch 20/100\n",
      "1407/1407 [==============================] - 11s 8ms/step - loss: 1.4522 - accuracy: 0.4816 - val_loss: 1.5622 - val_accuracy: 0.4478\n",
      "Epoch 21/100\n",
      "1407/1407 [==============================] - 11s 8ms/step - loss: 1.4409 - accuracy: 0.4838 - val_loss: 1.5855 - val_accuracy: 0.4408\n",
      "Epoch 22/100\n",
      "1407/1407 [==============================] - 11s 8ms/step - loss: 1.4280 - accuracy: 0.4894 - val_loss: 1.5733 - val_accuracy: 0.4442\n",
      "Epoch 23/100\n",
      "1407/1407 [==============================] - 12s 8ms/step - loss: 1.4145 - accuracy: 0.4929 - val_loss: 1.5313 - val_accuracy: 0.4616\n",
      "Epoch 24/100\n",
      "1407/1407 [==============================] - 12s 9ms/step - loss: 1.4027 - accuracy: 0.4986 - val_loss: 1.5733 - val_accuracy: 0.4464\n",
      "Epoch 25/100\n",
      "1407/1407 [==============================] - 13s 9ms/step - loss: 1.3947 - accuracy: 0.5029 - val_loss: 1.5284 - val_accuracy: 0.4526\n",
      "Epoch 26/100\n",
      "1407/1407 [==============================] - 12s 8ms/step - loss: 1.3873 - accuracy: 0.5034 - val_loss: 1.5878 - val_accuracy: 0.4372\n",
      "Epoch 27/100\n",
      "1407/1407 [==============================] - 12s 8ms/step - loss: 1.3742 - accuracy: 0.5068 - val_loss: 1.5271 - val_accuracy: 0.4592\n",
      "Epoch 28/100\n",
      "1407/1407 [==============================] - 12s 8ms/step - loss: 1.3649 - accuracy: 0.5104 - val_loss: 1.5235 - val_accuracy: 0.4622\n",
      "Epoch 29/100\n",
      "1407/1407 [==============================] - 12s 8ms/step - loss: 1.3555 - accuracy: 0.5142 - val_loss: 1.5529 - val_accuracy: 0.4498\n",
      "Epoch 30/100\n",
      "1407/1407 [==============================] - 12s 8ms/step - loss: 1.3464 - accuracy: 0.5188 - val_loss: 1.5109 - val_accuracy: 0.4634\n",
      "Epoch 31/100\n",
      "1407/1407 [==============================] - 11s 8ms/step - loss: 1.3403 - accuracy: 0.5177 - val_loss: 1.5517 - val_accuracy: 0.4566\n",
      "Epoch 32/100\n",
      "1407/1407 [==============================] - 11s 8ms/step - loss: 1.3278 - accuracy: 0.5262 - val_loss: 1.5358 - val_accuracy: 0.4516\n",
      "Epoch 33/100\n",
      "1407/1407 [==============================] - 11s 8ms/step - loss: 1.3212 - accuracy: 0.5266 - val_loss: 1.5538 - val_accuracy: 0.4488\n",
      "Epoch 34/100\n",
      "1407/1407 [==============================] - 12s 9ms/step - loss: 1.3131 - accuracy: 0.5253 - val_loss: 1.5481 - val_accuracy: 0.4582\n",
      "Epoch 35/100\n",
      "1407/1407 [==============================] - 12s 8ms/step - loss: 1.3034 - accuracy: 0.5322 - val_loss: 1.5038 - val_accuracy: 0.4710\n",
      "Epoch 36/100\n",
      "1407/1407 [==============================] - 12s 8ms/step - loss: 1.2933 - accuracy: 0.5375 - val_loss: 1.5571 - val_accuracy: 0.4512\n",
      "Epoch 37/100\n",
      "1407/1407 [==============================] - 12s 8ms/step - loss: 1.2869 - accuracy: 0.5381 - val_loss: 1.5185 - val_accuracy: 0.4698\n",
      "Epoch 38/100\n",
      "1407/1407 [==============================] - 11s 8ms/step - loss: 1.2758 - accuracy: 0.5451 - val_loss: 1.5455 - val_accuracy: 0.4684\n",
      "Epoch 39/100\n",
      "1407/1407 [==============================] - 11s 8ms/step - loss: 1.2676 - accuracy: 0.5460 - val_loss: 1.5306 - val_accuracy: 0.4632\n",
      "Epoch 40/100\n",
      "1407/1407 [==============================] - 11s 8ms/step - loss: 1.2612 - accuracy: 0.5470 - val_loss: 1.5373 - val_accuracy: 0.4724\n",
      "Epoch 41/100\n",
      "1407/1407 [==============================] - 11s 8ms/step - loss: 1.2542 - accuracy: 0.5529 - val_loss: 1.5323 - val_accuracy: 0.4690\n",
      "Epoch 42/100\n",
      "1407/1407 [==============================] - 11s 8ms/step - loss: 1.2459 - accuracy: 0.5524 - val_loss: 1.5551 - val_accuracy: 0.4718\n",
      "Epoch 43/100\n",
      "1407/1407 [==============================] - 11s 8ms/step - loss: 1.2359 - accuracy: 0.5575 - val_loss: 1.5552 - val_accuracy: 0.4616\n",
      "Epoch 44/100\n",
      "1407/1407 [==============================] - 11s 8ms/step - loss: 1.2281 - accuracy: 0.5573 - val_loss: 1.5719 - val_accuracy: 0.4494\n",
      "Epoch 45/100\n",
      "1407/1407 [==============================] - 11s 8ms/step - loss: 1.2218 - accuracy: 0.5610 - val_loss: 1.5291 - val_accuracy: 0.4716\n",
      "Epoch 46/100\n",
      "1407/1407 [==============================] - 11s 8ms/step - loss: 1.2090 - accuracy: 0.5649 - val_loss: 1.5360 - val_accuracy: 0.4680\n",
      "Epoch 47/100\n",
      "1407/1407 [==============================] - 11s 8ms/step - loss: 1.2082 - accuracy: 0.5658 - val_loss: 1.5635 - val_accuracy: 0.4654\n",
      "Epoch 48/100\n",
      "1407/1407 [==============================] - 11s 8ms/step - loss: 1.1990 - accuracy: 0.5677 - val_loss: 1.5603 - val_accuracy: 0.4706\n",
      "Epoch 49/100\n",
      "1407/1407 [==============================] - 11s 8ms/step - loss: 1.1948 - accuracy: 0.5707 - val_loss: 1.5326 - val_accuracy: 0.4796\n",
      "Epoch 50/100\n",
      "1407/1407 [==============================] - 12s 8ms/step - loss: 1.1867 - accuracy: 0.5744 - val_loss: 1.5828 - val_accuracy: 0.4604\n",
      "Epoch 51/100\n",
      "1407/1407 [==============================] - 11s 8ms/step - loss: 1.1791 - accuracy: 0.5761 - val_loss: 1.5636 - val_accuracy: 0.4674\n",
      "Epoch 52/100\n"
     ]
    },
    {
     "name": "stdout",
     "output_type": "stream",
     "text": [
      "1407/1407 [==============================] - 12s 8ms/step - loss: 1.1713 - accuracy: 0.5792 - val_loss: 1.5559 - val_accuracy: 0.4702\n",
      "Epoch 53/100\n",
      "1407/1407 [==============================] - 11s 8ms/step - loss: 1.1657 - accuracy: 0.5826 - val_loss: 1.5893 - val_accuracy: 0.4692\n",
      "Epoch 54/100\n",
      "1407/1407 [==============================] - 11s 8ms/step - loss: 1.1623 - accuracy: 0.5842 - val_loss: 1.5575 - val_accuracy: 0.4738\n",
      "Epoch 55/100\n",
      "1407/1407 [==============================] - 11s 8ms/step - loss: 1.1517 - accuracy: 0.5896 - val_loss: 1.5762 - val_accuracy: 0.4718\n"
     ]
    }
   ],
   "source": [
    "early_stopping_cb = keras.callbacks.EarlyStopping(patience=20)\n",
    "model_checkpoint_cb = keras.callbacks.ModelCheckpoint(\"my_cifar10_model.h5\", save_best_only=True)\n",
    "run_index = 1 # increment every time you train the model\n",
    "run_logdir = os.path.join(os.curdir, \"my_cifar10_logs\", \"run_{:03d}\".format(run_index))\n",
    "tensorboard_cb = keras.callbacks.TensorBoard(run_logdir)\n",
    "callbacks = [early_stopping_cb, model_checkpoint_cb, tensorboard_cb]\n",
    "history = model.fit(X_train, y_train, epochs=100, validation_data=(X_valid,y_valid), callbacks=callbacks)"
   ]
  },
  {
   "cell_type": "code",
   "execution_count": 13,
   "metadata": {},
   "outputs": [],
   "source": [
    "bn_model = keras.models.Sequential()\n",
    "bn_model.add(keras.layers.Flatten(input_shape=[32,32,3]))\n",
    "\n",
    "for i in range(0, 20):\n",
    "    bn_model.add(keras.layers.BatchNormalization())\n",
    "    bn_model.add(StandardLayer(100))\n",
    "\n",
    "bn_model.add(keras.layers.Dense(10, activation=\"softmax\", kernel_initializer=\"he_normal\"))"
   ]
  },
  {
   "cell_type": "code",
   "execution_count": 16,
   "metadata": {},
   "outputs": [],
   "source": [
    "bn_model.compile(loss=\"sparse_categorical_crossentropy\",\n",
    "             optimizer=keras.optimizers.Nadam(lr=5e-4),\n",
    "             metrics=[\"accuracy\"])"
   ]
  },
  {
   "cell_type": "code",
   "execution_count": 17,
   "metadata": {},
   "outputs": [
    {
     "name": "stdout",
     "output_type": "stream",
     "text": [
      "Epoch 1/100\n",
      "   2/1407 [..............................] - ETA: 1:21:32 - loss: 1.4431 - accuracy: 0.5156WARNING:tensorflow:Callbacks method `on_train_batch_end` is slow compared to the batch time (batch time: 0.0120s vs `on_train_batch_end` time: 6.9507s). Check your callbacks.\n",
      "1407/1407 [==============================] - 26s 18ms/step - loss: 1.5787 - accuracy: 0.4444 - val_loss: 1.5537 - val_accuracy: 0.4442\n",
      "Epoch 2/100\n",
      "1407/1407 [==============================] - 19s 13ms/step - loss: 1.5163 - accuracy: 0.4661 - val_loss: 1.5053 - val_accuracy: 0.4718\n",
      "Epoch 3/100\n",
      "1407/1407 [==============================] - 18s 13ms/step - loss: 1.4838 - accuracy: 0.4727 - val_loss: 1.4692 - val_accuracy: 0.4824\n",
      "Epoch 4/100\n",
      "1407/1407 [==============================] - 18s 13ms/step - loss: 1.4458 - accuracy: 0.4906 - val_loss: 1.4452 - val_accuracy: 0.4900\n",
      "Epoch 5/100\n",
      "1407/1407 [==============================] - 19s 13ms/step - loss: 1.4106 - accuracy: 0.5026 - val_loss: 1.4311 - val_accuracy: 0.4950\n",
      "Epoch 6/100\n",
      "1407/1407 [==============================] - 18s 13ms/step - loss: 1.3831 - accuracy: 0.5132 - val_loss: 1.4456 - val_accuracy: 0.4868\n",
      "Epoch 7/100\n",
      "1407/1407 [==============================] - 19s 13ms/step - loss: 1.3637 - accuracy: 0.5199 - val_loss: 1.3752 - val_accuracy: 0.5146\n",
      "Epoch 8/100\n",
      "1407/1407 [==============================] - 17s 12ms/step - loss: 1.3364 - accuracy: 0.5289 - val_loss: 1.3768 - val_accuracy: 0.5090\n",
      "Epoch 9/100\n",
      "1407/1407 [==============================] - 18s 13ms/step - loss: 1.3111 - accuracy: 0.5387 - val_loss: 1.4056 - val_accuracy: 0.5186\n",
      "Epoch 10/100\n",
      "1407/1407 [==============================] - 18s 13ms/step - loss: 1.2924 - accuracy: 0.5442 - val_loss: 1.3545 - val_accuracy: 0.5250\n",
      "Epoch 11/100\n",
      "1407/1407 [==============================] - 17s 12ms/step - loss: 1.2703 - accuracy: 0.5530 - val_loss: 1.3436 - val_accuracy: 0.5320\n",
      "Epoch 12/100\n",
      "1407/1407 [==============================] - 17s 12ms/step - loss: 1.2513 - accuracy: 0.5589 - val_loss: 1.3630 - val_accuracy: 0.5270\n",
      "Epoch 13/100\n",
      "1407/1407 [==============================] - 18s 12ms/step - loss: 1.2401 - accuracy: 0.5642 - val_loss: 1.3451 - val_accuracy: 0.5312\n",
      "Epoch 14/100\n",
      "1407/1407 [==============================] - 18s 13ms/step - loss: 1.2218 - accuracy: 0.5700 - val_loss: 1.3424 - val_accuracy: 0.5324\n",
      "Epoch 15/100\n",
      "1407/1407 [==============================] - 17s 12ms/step - loss: 1.2098 - accuracy: 0.5735 - val_loss: 1.3809 - val_accuracy: 0.5208\n",
      "Epoch 16/100\n",
      "1407/1407 [==============================] - 18s 13ms/step - loss: 1.1934 - accuracy: 0.5835 - val_loss: 1.3423 - val_accuracy: 0.5412\n",
      "Epoch 17/100\n",
      "1407/1407 [==============================] - 20s 14ms/step - loss: 1.1744 - accuracy: 0.5860 - val_loss: 1.3663 - val_accuracy: 0.5310\n",
      "Epoch 18/100\n",
      "1407/1407 [==============================] - 24s 17ms/step - loss: 1.1743 - accuracy: 0.5878 - val_loss: 1.3606 - val_accuracy: 0.5260\n",
      "Epoch 19/100\n",
      "1407/1407 [==============================] - 24s 17ms/step - loss: 1.1525 - accuracy: 0.5968 - val_loss: 1.3530 - val_accuracy: 0.5284\n",
      "Epoch 20/100\n",
      "1407/1407 [==============================] - 18s 13ms/step - loss: 1.1368 - accuracy: 0.6008 - val_loss: 1.3891 - val_accuracy: 0.5304\n",
      "Epoch 21/100\n",
      "1407/1407 [==============================] - 19s 14ms/step - loss: 1.1255 - accuracy: 0.6063 - val_loss: 1.3435 - val_accuracy: 0.5356\n",
      "Epoch 22/100\n",
      "1407/1407 [==============================] - 24s 17ms/step - loss: 1.1087 - accuracy: 0.6109 - val_loss: 1.3379 - val_accuracy: 0.5444\n",
      "Epoch 23/100\n",
      "1407/1407 [==============================] - 22s 16ms/step - loss: 1.1035 - accuracy: 0.6134 - val_loss: 1.3603 - val_accuracy: 0.5404\n",
      "Epoch 24/100\n",
      "1407/1407 [==============================] - 21s 15ms/step - loss: 1.0900 - accuracy: 0.6155 - val_loss: 1.3442 - val_accuracy: 0.5462\n",
      "Epoch 25/100\n",
      "1407/1407 [==============================] - 21s 15ms/step - loss: 1.0788 - accuracy: 0.6210 - val_loss: 1.3480 - val_accuracy: 0.5422\n",
      "Epoch 26/100\n",
      "1407/1407 [==============================] - 23s 16ms/step - loss: 1.0692 - accuracy: 0.6249 - val_loss: 1.3365 - val_accuracy: 0.5478\n",
      "Epoch 27/100\n",
      "1407/1407 [==============================] - 18s 13ms/step - loss: 1.0599 - accuracy: 0.6278 - val_loss: 1.3445 - val_accuracy: 0.5476\n",
      "Epoch 28/100\n",
      "1407/1407 [==============================] - 18s 13ms/step - loss: 1.0509 - accuracy: 0.6318 - val_loss: 1.3703 - val_accuracy: 0.5340\n",
      "Epoch 29/100\n",
      "1407/1407 [==============================] - 20s 14ms/step - loss: 1.0397 - accuracy: 0.6349 - val_loss: 1.3904 - val_accuracy: 0.5422\n",
      "Epoch 30/100\n",
      "1407/1407 [==============================] - 18s 13ms/step - loss: 1.0321 - accuracy: 0.6373 - val_loss: 1.3580 - val_accuracy: 0.5394\n",
      "Epoch 31/100\n",
      "1407/1407 [==============================] - 19s 13ms/step - loss: 1.0216 - accuracy: 0.6412 - val_loss: 1.3919 - val_accuracy: 0.5280\n",
      "Epoch 32/100\n",
      "1407/1407 [==============================] - 18s 13ms/step - loss: 1.0074 - accuracy: 0.6455 - val_loss: 1.4069 - val_accuracy: 0.5296\n",
      "Epoch 33/100\n",
      "1407/1407 [==============================] - 18s 12ms/step - loss: 0.9997 - accuracy: 0.6486 - val_loss: 1.3783 - val_accuracy: 0.5374\n",
      "Epoch 34/100\n",
      "1407/1407 [==============================] - 17s 12ms/step - loss: 0.9942 - accuracy: 0.6512 - val_loss: 1.4007 - val_accuracy: 0.5362\n",
      "Epoch 35/100\n",
      "1407/1407 [==============================] - 18s 13ms/step - loss: 0.9865 - accuracy: 0.6535 - val_loss: 1.3945 - val_accuracy: 0.5394\n",
      "Epoch 36/100\n",
      "1407/1407 [==============================] - 17s 12ms/step - loss: 0.9803 - accuracy: 0.6567 - val_loss: 1.3953 - val_accuracy: 0.5386\n",
      "Epoch 37/100\n",
      "1407/1407 [==============================] - 17s 12ms/step - loss: 0.9732 - accuracy: 0.6594 - val_loss: 1.3918 - val_accuracy: 0.5306\n",
      "Epoch 38/100\n",
      "1407/1407 [==============================] - 18s 13ms/step - loss: 0.9684 - accuracy: 0.6611 - val_loss: 1.3818 - val_accuracy: 0.5338\n",
      "Epoch 39/100\n",
      "1407/1407 [==============================] - 19s 13ms/step - loss: 0.9601 - accuracy: 0.6629 - val_loss: 1.3626 - val_accuracy: 0.5408\n",
      "Epoch 40/100\n",
      "1407/1407 [==============================] - 19s 13ms/step - loss: 0.9519 - accuracy: 0.6662 - val_loss: 1.4017 - val_accuracy: 0.5440\n",
      "Epoch 41/100\n",
      "1407/1407 [==============================] - 19s 14ms/step - loss: 0.9411 - accuracy: 0.6716 - val_loss: 1.3820 - val_accuracy: 0.5502\n",
      "Epoch 42/100\n",
      "1407/1407 [==============================] - 19s 13ms/step - loss: 0.9396 - accuracy: 0.6705 - val_loss: 1.4045 - val_accuracy: 0.5470\n",
      "Epoch 43/100\n",
      "1407/1407 [==============================] - 18s 13ms/step - loss: 0.9297 - accuracy: 0.6765 - val_loss: 1.4079 - val_accuracy: 0.5348\n",
      "Epoch 44/100\n",
      "1407/1407 [==============================] - 18s 13ms/step - loss: 0.9200 - accuracy: 0.6772 - val_loss: 1.4030 - val_accuracy: 0.5354\n",
      "Epoch 45/100\n",
      "1407/1407 [==============================] - 18s 13ms/step - loss: 0.9135 - accuracy: 0.6798 - val_loss: 1.4362 - val_accuracy: 0.5342\n",
      "Epoch 46/100\n",
      "1407/1407 [==============================] - 18s 13ms/step - loss: 0.9113 - accuracy: 0.6796 - val_loss: 1.4129 - val_accuracy: 0.5334\n"
     ]
    }
   ],
   "source": [
    "early_stopping_cb = keras.callbacks.EarlyStopping(patience=20)\n",
    "model_checkpoint_cb = keras.callbacks.ModelCheckpoint(\"bn_cifar10_model.h5\", save_best_only=True)\n",
    "run_index = 2 # increment every time you train the model\n",
    "run_logdir = os.path.join(os.curdir, \"bn_cifar10_logs\", \"run_{:03d}\".format(run_index))\n",
    "tensorboard_cb = keras.callbacks.TensorBoard(run_logdir)\n",
    "callbacks = [early_stopping_cb, model_checkpoint_cb, tensorboard_cb]\n",
    "history = bn_model.fit(X_train, y_train, epochs=100, validation_data=(X_valid,y_valid), callbacks=callbacks)"
   ]
  },
  {
   "cell_type": "code",
   "execution_count": 28,
   "metadata": {},
   "outputs": [
    {
     "data": {
      "text/plain": [
       "[PhysicalDevice(name='/physical_device:CPU:0', device_type='CPU')]"
      ]
     },
     "execution_count": 28,
     "metadata": {},
     "output_type": "execute_result"
    }
   ],
   "source": []
  },
  {
   "cell_type": "code",
   "execution_count": null,
   "metadata": {},
   "outputs": [],
   "source": []
  }
 ],
 "metadata": {
  "kernelspec": {
   "display_name": "Python 3",
   "language": "python",
   "name": "python3"
  },
  "language_info": {
   "codemirror_mode": {
    "name": "ipython",
    "version": 3
   },
   "file_extension": ".py",
   "mimetype": "text/x-python",
   "name": "python",
   "nbconvert_exporter": "python",
   "pygments_lexer": "ipython3",
   "version": "3.8.5"
  }
 },
 "nbformat": 4,
 "nbformat_minor": 4
}
