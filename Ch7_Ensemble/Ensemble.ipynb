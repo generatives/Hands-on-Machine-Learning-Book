{
 "cells": [
  {
   "cell_type": "code",
   "execution_count": 1,
   "metadata": {},
   "outputs": [],
   "source": [
    "from sklearn.datasets import fetch_openml\n",
    "\n",
    "mnist = fetch_openml('mnist_784', version=1)"
   ]
  },
  {
   "cell_type": "code",
   "execution_count": 2,
   "metadata": {},
   "outputs": [],
   "source": [
    "X, y = mnist[\"data\"], mnist[\"target\"]"
   ]
  },
  {
   "cell_type": "code",
   "execution_count": 3,
   "metadata": {},
   "outputs": [],
   "source": [
    "import numpy as np\n",
    "\n",
    "y = y.astype(np.uint)"
   ]
  },
  {
   "cell_type": "code",
   "execution_count": 4,
   "metadata": {},
   "outputs": [],
   "source": [
    "X_train, y_train, X_val, y_val, X_test, y_test = X[:50000], y[:50000], X[50000:60000], y[50000:60000], X[60000:], y[60000:]"
   ]
  },
  {
   "cell_type": "code",
   "execution_count": 13,
   "metadata": {},
   "outputs": [],
   "source": [
    "from sklearn.ensemble import RandomForestClassifier\n",
    "\n",
    "rf_clf = RandomForestClassifier(n_estimators=500, max_leaf_nodes=16, n_jobs=-1, verbose=0)"
   ]
  },
  {
   "cell_type": "code",
   "execution_count": 14,
   "metadata": {},
   "outputs": [
    {
     "data": {
      "text/plain": [
       "RandomForestClassifier(max_leaf_nodes=16, n_estimators=500, n_jobs=-1)"
      ]
     },
     "execution_count": 14,
     "metadata": {},
     "output_type": "execute_result"
    }
   ],
   "source": [
    "rf_clf.fit(X_train, y_train)"
   ]
  },
  {
   "cell_type": "code",
   "execution_count": 15,
   "metadata": {},
   "outputs": [
    {
     "data": {
      "text/plain": [
       "0.8402"
      ]
     },
     "execution_count": 15,
     "metadata": {},
     "output_type": "execute_result"
    }
   ],
   "source": [
    "from sklearn.metrics import accuracy_score\n",
    "accuracy_score(y_val, rf_clf.predict(X_val))"
   ]
  },
  {
   "cell_type": "code",
   "execution_count": 17,
   "metadata": {},
   "outputs": [
    {
     "data": {
      "text/plain": [
       "<matplotlib.image.AxesImage at 0x1f50dffd070>"
      ]
     },
     "execution_count": 17,
     "metadata": {},
     "output_type": "execute_result"
    },
    {
     "data": {
      "image/png": "[encoded data removed]",
      "text/plain": [
       "<Figure size 432x288 with 1 Axes>"
      ]
     },
     "metadata": {
      "needs_background": "light"
     },
     "output_type": "display_data"
    }
   ],
   "source": [
    "import matplotlib as mpl\n",
    "import matplotlib.pyplot as plt\n",
    "\n",
    "importance_image = rf_clf.feature_importances_.reshape(28, 28)\n",
    "\n",
    "plt.imshow(importance_image, cmap=\"magma\")"
   ]
  },
  {
   "cell_type": "code",
   "execution_count": 21,
   "metadata": {},
   "outputs": [
    {
     "data": {
      "text/plain": [
       "AdaBoostClassifier(base_estimator=DecisionTreeClassifier(max_depth=1),\n",
       "                   learning_rate=0.5, n_estimators=200)"
      ]
     },
     "execution_count": 21,
     "metadata": {},
     "output_type": "execute_result"
    }
   ],
   "source": [
    "from sklearn.ensemble import AdaBoostClassifier\n",
    "from sklearn.tree import DecisionTreeClassifier\n",
    "\n",
    "ada_clf = AdaBoostClassifier(\n",
    "    DecisionTreeClassifier(max_depth=1),\n",
    "    n_estimators=200, algorithm=\"SAMME.R\", learning_rate=0.5)\n",
    "\n",
    "ada_clf.fit(X_train, y_train)"
   ]
  },
  {
   "cell_type": "code",
   "execution_count": 22,
   "metadata": {},
   "outputs": [
    {
     "data": {
      "text/plain": [
       "0.7905"
      ]
     },
     "execution_count": 22,
     "metadata": {},
     "output_type": "execute_result"
    }
   ],
   "source": [
    "accuracy_score(y_val, ada_clf.predict(X_val))"
   ]
  },
  {
   "cell_type": "code",
   "execution_count": 24,
   "metadata": {},
   "outputs": [],
   "source": [
    "accuracies = [accuracy_score(y_val, y_pred) for y_pred in ada_clf.staged_predict(X_val)]\n",
    "best_num_estimators = np.argmax(accuracies) + 1"
   ]
  },
  {
   "cell_type": "code",
   "execution_count": 25,
   "metadata": {},
   "outputs": [
    {
     "data": {
      "text/plain": [
       "128"
      ]
     },
     "execution_count": 25,
     "metadata": {},
     "output_type": "execute_result"
    }
   ],
   "source": [
    "best_num_estimators"
   ]
  },
  {
   "cell_type": "code",
   "execution_count": 17,
   "metadata": {},
   "outputs": [
    {
     "data": {
      "text/plain": [
       "AdaBoostClassifier(base_estimator=DecisionTreeClassifier(max_depth=1),\n",
       "                   learning_rate=0.5, n_estimators=128)"
      ]
     },
     "execution_count": 17,
     "metadata": {},
     "output_type": "execute_result"
    }
   ],
   "source": [
    "from sklearn.ensemble import AdaBoostClassifier\n",
    "from sklearn.tree import DecisionTreeClassifier\n",
    "\n",
    "bst_ada_clf = AdaBoostClassifier(\n",
    "    DecisionTreeClassifier(max_depth=1),\n",
    "    n_estimators=128, algorithm=\"SAMME.R\", learning_rate=0.5)\n",
    "\n",
    "bst_ada_clf.fit(X_train, y_train)"
   ]
  },
  {
   "cell_type": "code",
   "execution_count": 10,
   "metadata": {},
   "outputs": [
    {
     "name": "stderr",
     "output_type": "stream",
     "text": [
      "[Parallel(n_jobs=8)]: Using backend LokyBackend with 8 concurrent workers.\n",
      "[Parallel(n_jobs=8)]: Done   3 out of   8 | elapsed:  1.4min remaining:  2.3min\n",
      "[Parallel(n_jobs=8)]: Done   8 out of   8 | elapsed:  1.5min remaining:    0.0s\n",
      "[Parallel(n_jobs=8)]: Done   8 out of   8 | elapsed:  1.5min finished\n"
     ]
    },
    {
     "data": {
      "text/plain": [
       "BaggingClassifier(base_estimator=DecisionTreeClassifier(max_depth=5),\n",
       "                  max_samples=100, n_estimators=500, n_jobs=-1, verbose=2)"
      ]
     },
     "execution_count": 10,
     "metadata": {},
     "output_type": "execute_result"
    }
   ],
   "source": [
    "from sklearn.ensemble import BaggingClassifier\n",
    "from sklearn.tree import DecisionTreeClassifier\n",
    "\n",
    "bag_clf = BaggingClassifier(DecisionTreeClassifier(max_depth=5), n_estimators=500, max_samples=100, bootstrap=True, n_jobs=-1, verbose=2)\n",
    "bag_clf.fit(X_train[:30000], y_train[:30000])"
   ]
  },
  {
   "cell_type": "code",
   "execution_count": 11,
   "metadata": {},
   "outputs": [
    {
     "name": "stderr",
     "output_type": "stream",
     "text": [
      "[Parallel(n_jobs=8)]: Using backend LokyBackend with 8 concurrent workers.\n",
      "[Parallel(n_jobs=8)]: Done   3 out of   8 | elapsed:   23.0s remaining:   38.4s\n",
      "[Parallel(n_jobs=8)]: Done   8 out of   8 | elapsed:   24.1s remaining:    0.0s\n",
      "[Parallel(n_jobs=8)]: Done   8 out of   8 | elapsed:   24.1s finished\n"
     ]
    },
    {
     "data": {
      "text/plain": [
       "0.8501"
      ]
     },
     "execution_count": 11,
     "metadata": {},
     "output_type": "execute_result"
    }
   ],
   "source": [
    "from sklearn.metrics import accuracy_score\n",
    "accuracy_score(y_val, bag_clf.predict(X_val))"
   ]
  },
  {
   "cell_type": "code",
   "execution_count": 18,
   "metadata": {},
   "outputs": [],
   "source": [
    "rf_val_pred = rf_clf.predict_proba(X_val)"
   ]
  },
  {
   "cell_type": "code",
   "execution_count": 19,
   "metadata": {},
   "outputs": [],
   "source": [
    "ada_val_pred = bst_ada_clf.predict_proba(X_val)"
   ]
  },
  {
   "cell_type": "code",
   "execution_count": 20,
   "metadata": {},
   "outputs": [
    {
     "name": "stderr",
     "output_type": "stream",
     "text": [
      "[Parallel(n_jobs=8)]: Using backend LokyBackend with 8 concurrent workers.\n",
      "[Parallel(n_jobs=8)]: Done   3 out of   8 | elapsed:   17.0s remaining:   28.5s\n",
      "[Parallel(n_jobs=8)]: Done   8 out of   8 | elapsed:   17.8s remaining:    0.0s\n",
      "[Parallel(n_jobs=8)]: Done   8 out of   8 | elapsed:   17.8s finished\n"
     ]
    }
   ],
   "source": [
    "bag_val_pred = bag_clf.predict_proba(X_val)"
   ]
  },
  {
   "cell_type": "code",
   "execution_count": 21,
   "metadata": {},
   "outputs": [
    {
     "data": {
      "text/plain": [
       "array([[0.03359037, 0.23262553, 0.12384336, 0.32318444, 0.02468848,\n",
       "        0.07811208, 0.0502666 , 0.02153756, 0.08327448, 0.02887711],\n",
       "       [0.02479375, 0.12041275, 0.09024737, 0.11517196, 0.13185888,\n",
       "        0.12126433, 0.05936351, 0.05221932, 0.22540058, 0.05926754],\n",
       "       [0.11772759, 0.01471036, 0.08189575, 0.04618818, 0.11290297,\n",
       "        0.07154366, 0.39040112, 0.09063155, 0.03285987, 0.04113894],\n",
       "       [0.01574433, 0.01742904, 0.04458775, 0.03311528, 0.22380261,\n",
       "        0.03937813, 0.04495606, 0.20434056, 0.03482752, 0.34181872],\n",
       "       [0.04535266, 0.05817648, 0.12968627, 0.03111761, 0.14092003,\n",
       "        0.04508063, 0.4669553 , 0.01572069, 0.03608469, 0.03090563],\n",
       "       [0.03856484, 0.05559455, 0.10756169, 0.04562288, 0.12450535,\n",
       "        0.08922234, 0.18320678, 0.11812986, 0.06920917, 0.16838254],\n",
       "       [0.07246487, 0.17063847, 0.03602688, 0.0794463 , 0.15247284,\n",
       "        0.14690019, 0.06060237, 0.08018238, 0.14291032, 0.05835538],\n",
       "       [0.14675798, 0.03816085, 0.06581266, 0.24345047, 0.02324022,\n",
       "        0.24540468, 0.04357279, 0.09417551, 0.05736923, 0.04205562],\n",
       "       [0.02765115, 0.1284144 , 0.08342523, 0.08099066, 0.11830663,\n",
       "        0.11765999, 0.04773333, 0.10726495, 0.19137277, 0.09718091],\n",
       "       [0.04312048, 0.09024113, 0.09212608, 0.05444394, 0.11139549,\n",
       "        0.12906705, 0.09759697, 0.13883261, 0.08981945, 0.15335679]])"
      ]
     },
     "execution_count": 21,
     "metadata": {},
     "output_type": "execute_result"
    }
   ],
   "source": [
    "bag_val_pred[:10]"
   ]
  },
  {
   "cell_type": "code",
   "execution_count": 23,
   "metadata": {},
   "outputs": [
    {
     "name": "stderr",
     "output_type": "stream",
     "text": [
      "[Parallel(n_jobs=8)]: Using backend LokyBackend with 8 concurrent workers.\n",
      "[Parallel(n_jobs=8)]: Done   3 out of   8 | elapsed:   15.8s remaining:   26.4s\n",
      "[Parallel(n_jobs=8)]: Done   8 out of   8 | elapsed:   16.0s remaining:    0.0s\n",
      "[Parallel(n_jobs=8)]: Done   8 out of   8 | elapsed:   16.0s finished\n"
     ]
    }
   ],
   "source": [
    "rf_val_pred = rf_clf.predict_proba(X_val)\n",
    "ada_val_pred = bst_ada_clf.predict_proba(X_val)\n",
    "bag_val_pred = bag_clf.predict_proba(X_val)"
   ]
  },
  {
   "cell_type": "code",
   "execution_count": 26,
   "metadata": {},
   "outputs": [],
   "source": [
    "X_pred_train = np.vstack((rf_val_pred, ada_val_pred, bag_val_pred))"
   ]
  },
  {
   "cell_type": "code",
   "execution_count": 27,
   "metadata": {},
   "outputs": [
    {
     "data": {
      "text/plain": [
       "(30000, 10)"
      ]
     },
     "execution_count": 27,
     "metadata": {},
     "output_type": "execute_result"
    }
   ],
   "source": [
    "X_pred_train.shape"
   ]
  },
  {
   "cell_type": "code",
   "execution_count": 28,
   "metadata": {},
   "outputs": [
    {
     "data": {
      "text/plain": [
       "array([[0.0302357 , 0.16969036, 0.16241296, 0.26006086, 0.02694239,\n",
       "        0.09951134, 0.06689143, 0.02822163, 0.12507869, 0.03095463],\n",
       "       [0.02966983, 0.06108114, 0.09081494, 0.13085717, 0.10626114,\n",
       "        0.12532354, 0.07431475, 0.06126948, 0.23689077, 0.08351724],\n",
       "       [0.18845676, 0.00833718, 0.08994513, 0.07863378, 0.06640354,\n",
       "        0.11458929, 0.30997464, 0.06717693, 0.03632979, 0.04015297],\n",
       "       [0.02187477, 0.00817717, 0.04146041, 0.04045598, 0.2271987 ,\n",
       "        0.0622252 , 0.04923785, 0.15020523, 0.04659927, 0.35256542],\n",
       "       [0.04019485, 0.03915561, 0.14268012, 0.04729658, 0.11801913,\n",
       "        0.05913637, 0.39127834, 0.02788711, 0.07669577, 0.05765612],\n",
       "       [0.0508519 , 0.01636531, 0.07374173, 0.04978147, 0.1713574 ,\n",
       "        0.08410624, 0.19057691, 0.09810708, 0.077967  , 0.18714495],\n",
       "       [0.0861931 , 0.08722758, 0.04467014, 0.08820121, 0.1718472 ,\n",
       "        0.14545104, 0.08477913, 0.07236197, 0.11221823, 0.1070504 ],\n",
       "       [0.1568648 , 0.0138406 , 0.09231868, 0.25010396, 0.02581038,\n",
       "        0.20427459, 0.07813967, 0.06033639, 0.08233909, 0.03597183],\n",
       "       [0.02271335, 0.13571362, 0.11179212, 0.11837118, 0.06445718,\n",
       "        0.0797725 , 0.05699368, 0.13562232, 0.18974069, 0.08482337],\n",
       "       [0.05165079, 0.04063273, 0.08355301, 0.07618266, 0.12164342,\n",
       "        0.11671315, 0.13787835, 0.13698492, 0.10343246, 0.13132852]])"
      ]
     },
     "execution_count": 28,
     "metadata": {},
     "output_type": "execute_result"
    }
   ],
   "source": [
    "X_pred_train[:10]"
   ]
  },
  {
   "cell_type": "code",
   "execution_count": 30,
   "metadata": {},
   "outputs": [
    {
     "data": {
      "text/plain": [
       "(10000, 10)"
      ]
     },
     "execution_count": 30,
     "metadata": {},
     "output_type": "execute_result"
    }
   ],
   "source": [
    "rf_val_pred.shape"
   ]
  },
  {
   "cell_type": "code",
   "execution_count": 31,
   "metadata": {},
   "outputs": [],
   "source": [
    "X_pred_train = np.concatenate((rf_val_pred, ada_val_pred, bag_val_pred),axis=1)"
   ]
  },
  {
   "cell_type": "code",
   "execution_count": 32,
   "metadata": {},
   "outputs": [
    {
     "data": {
      "text/plain": [
       "(10000, 30)"
      ]
     },
     "execution_count": 32,
     "metadata": {},
     "output_type": "execute_result"
    }
   ],
   "source": [
    "X_pred_train.shape"
   ]
  },
  {
   "cell_type": "code",
   "execution_count": 36,
   "metadata": {},
   "outputs": [],
   "source": [
    "y_pred_train = y_val"
   ]
  },
  {
   "cell_type": "code",
   "execution_count": 34,
   "metadata": {},
   "outputs": [],
   "source": [
    "rf_bld_clf = RandomForestClassifier(n_estimators=500, max_leaf_nodes=16, n_jobs=-1, verbose=0)"
   ]
  },
  {
   "cell_type": "code",
   "execution_count": 37,
   "metadata": {},
   "outputs": [
    {
     "data": {
      "text/plain": [
       "RandomForestClassifier(max_leaf_nodes=16, n_estimators=500, n_jobs=-1)"
      ]
     },
     "execution_count": 37,
     "metadata": {},
     "output_type": "execute_result"
    }
   ],
   "source": [
    "rf_bld_clf.fit(X_pred_train, y_pred_train)"
   ]
  },
  {
   "cell_type": "code",
   "execution_count": 40,
   "metadata": {},
   "outputs": [],
   "source": [
    "def blendPredict(est1, est2, est3, blnd, X):\n",
    "    pred_1 = est1.predict_proba(X)\n",
    "    pred_2 = est2.predict_proba(X)\n",
    "    pred_3 = est3.predict_proba(X)\n",
    "    X_pred = np.concatenate((pred_1, pred_2, pred_3),axis=1)\n",
    "    return blnd.predict(X_pred)"
   ]
  },
  {
   "cell_type": "code",
   "execution_count": 42,
   "metadata": {},
   "outputs": [
    {
     "name": "stderr",
     "output_type": "stream",
     "text": [
      "[Parallel(n_jobs=8)]: Using backend LokyBackend with 8 concurrent workers.\n",
      "[Parallel(n_jobs=8)]: Done   3 out of   8 | elapsed:   16.9s remaining:   28.2s\n",
      "[Parallel(n_jobs=8)]: Done   8 out of   8 | elapsed:   17.2s remaining:    0.0s\n",
      "[Parallel(n_jobs=8)]: Done   8 out of   8 | elapsed:   17.2s finished\n"
     ]
    },
    {
     "data": {
      "text/plain": [
       "0.868"
      ]
     },
     "execution_count": 42,
     "metadata": {},
     "output_type": "execute_result"
    }
   ],
   "source": [
    "accuracy_score(y_test, blendPredict(rf_clf, bst_ada_clf, bag_clf, rf_bld_clf, X_test))"
   ]
  },
  {
   "cell_type": "code",
   "execution_count": 43,
   "metadata": {},
   "outputs": [
    {
     "data": {
      "text/plain": [
       "0.8317"
      ]
     },
     "execution_count": 43,
     "metadata": {},
     "output_type": "execute_result"
    }
   ],
   "source": [
    "accuracy_score(y_test, rf_clf.predict(X_test))"
   ]
  },
  {
   "cell_type": "code",
   "execution_count": 44,
   "metadata": {},
   "outputs": [
    {
     "data": {
      "text/plain": [
       "0.806"
      ]
     },
     "execution_count": 44,
     "metadata": {},
     "output_type": "execute_result"
    }
   ],
   "source": [
    "accuracy_score(y_test, bst_ada_clf.predict(X_test))"
   ]
  },
  {
   "cell_type": "code",
   "execution_count": 45,
   "metadata": {},
   "outputs": [
    {
     "name": "stderr",
     "output_type": "stream",
     "text": [
      "[Parallel(n_jobs=8)]: Using backend LokyBackend with 8 concurrent workers.\n",
      "[Parallel(n_jobs=8)]: Done   3 out of   8 | elapsed:   18.3s remaining:   30.5s\n",
      "[Parallel(n_jobs=8)]: Done   8 out of   8 | elapsed:   20.0s remaining:    0.0s\n",
      "[Parallel(n_jobs=8)]: Done   8 out of   8 | elapsed:   20.0s finished\n"
     ]
    },
    {
     "data": {
      "text/plain": [
       "0.8407"
      ]
     },
     "execution_count": 45,
     "metadata": {},
     "output_type": "execute_result"
    }
   ],
   "source": [
    "accuracy_score(y_test, bag_clf.predict(X_test))"
   ]
  },
  {
   "cell_type": "code",
   "execution_count": null,
   "metadata": {},
   "outputs": [],
   "source": []
  }
 ],
 "metadata": {
  "kernelspec": {
   "display_name": "Python 3",
   "language": "python",
   "name": "python3"
  },
  "language_info": {
   "codemirror_mode": {
    "name": "ipython",
    "version": 3
   },
   "file_extension": ".py",
   "mimetype": "text/x-python",
   "name": "python",
   "nbconvert_exporter": "python",
   "pygments_lexer": "ipython3",
   "version": "3.8.3"
  }
 },
 "nbformat": 4,
 "nbformat_minor": 4
}
