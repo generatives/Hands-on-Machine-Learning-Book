{
 "cells": [
  {
   "cell_type": "code",
   "execution_count": 1,
   "metadata": {},
   "outputs": [
    {
     "name": "stdout",
     "output_type": "stream",
     "text": [
      "Downloading data from https://storage.googleapis.com/tensorflow/tf-keras-datasets/train-labels-idx1-ubyte.gz\n",
      "32768/29515 [=================================] - 0s 1us/step\n",
      "Downloading data from https://storage.googleapis.com/tensorflow/tf-keras-datasets/train-images-idx3-ubyte.gz\n",
      "26427392/26421880 [==============================] - 8s 0us/step\n",
      "Downloading data from https://storage.googleapis.com/tensorflow/tf-keras-datasets/t10k-labels-idx1-ubyte.gz\n",
      "8192/5148 [===============================================] - 0s 0us/step\n",
      "Downloading data from https://storage.googleapis.com/tensorflow/tf-keras-datasets/t10k-images-idx3-ubyte.gz\n",
      "4423680/4422102 [==============================] - 1s 0us/step\n"
     ]
    }
   ],
   "source": [
    "from tensorflow import keras\n",
    "\n",
    "(X_train_full, y_train_full), (X_test, y_test) = keras.datasets.fashion_mnist.load_data()"
   ]
  },
  {
   "cell_type": "code",
   "execution_count": 5,
   "metadata": {},
   "outputs": [],
   "source": [
    "X_val = X_train_full[:5000]\n",
    "y_val = y_train_full[:5000]\n",
    "X_train = X_train_full[5000:]\n",
    "y_train = y_train_full[5000:]"
   ]
  },
  {
   "cell_type": "code",
   "execution_count": 66,
   "metadata": {},
   "outputs": [
    {
     "data": {
      "text/plain": [
       "(55000, 28, 28)"
      ]
     },
     "execution_count": 66,
     "metadata": {},
     "output_type": "execute_result"
    }
   ],
   "source": [
    "X_train.shape"
   ]
  },
  {
   "cell_type": "code",
   "execution_count": 68,
   "metadata": {},
   "outputs": [],
   "source": [
    "from tensorflow.train import BytesList, Int64List\n",
    "from tensorflow.train import Feature, Features, Example\n",
    "import numpy as np\n",
    "import os\n",
    "\n",
    "def make_proto_example(example, label):\n",
    "    return Example(\n",
    "        features=Features(\n",
    "            feature={\n",
    "                \"example\": Feature(bytes_list=BytesList(value=[tf.io.serialize_tensor(example).numpy()])),\n",
    "                \"label\": Feature(int64_list=Int64List(value=[label]))\n",
    "            }))\n",
    "\n",
    "def write_to_files(examples, labels, num_files, location):\n",
    "    if not os.path.exists(location):\n",
    "        os.makedirs(location)\n",
    "    file_num = 0\n",
    "    \n",
    "    for batch in np.split(np.array(list(zip(examples, labels))), num_files):\n",
    "        with tf.io.TFRecordWriter(location + f\"dataset_{file_num}.tfrecord\") as f:\n",
    "            for item in batch:\n",
    "                example = make_proto_example(item[0], item[1])\n",
    "                f.write(example.SerializeToString())\n",
    "        file_num += 1"
   ]
  },
  {
   "cell_type": "code",
   "execution_count": 69,
   "metadata": {},
   "outputs": [],
   "source": [
    "num_files = 100\n",
    "location = \"./datasets/fashion_minst/train/\"\n",
    "\n",
    "write_to_files(X_train, y_train, num_files, location)"
   ]
  },
  {
   "cell_type": "code",
   "execution_count": 70,
   "metadata": {},
   "outputs": [],
   "source": [
    "write_to_files(X_val, y_val, 1, \"./datasets/fashion_minst/val/\")"
   ]
  },
  {
   "cell_type": "code",
   "execution_count": 71,
   "metadata": {},
   "outputs": [],
   "source": [
    "write_to_files(X_test, y_test, 1, \"./datasets/fashion_minst/test/\")"
   ]
  },
  {
   "cell_type": "code",
   "execution_count": 76,
   "metadata": {},
   "outputs": [],
   "source": [
    "def read_example(tfrecord):\n",
    "    feature_description = {\n",
    "        \"example\": tf.io.FixedLenFeature([], tf.string, default_value=\"\"),\n",
    "        \"label\": tf.io.FixedLenFeature([], tf.int64, default_value=-1)\n",
    "    }\n",
    "    example = tf.io.parse_single_example(tfrecord, feature_description)\n",
    "    image = tf.io.parse_tensor(example[\"example\"], out_type=tf.uint8)\n",
    "    image = tf.reshape(image, shape=[28, 28])\n",
    "    return (image, example[\"label\"])\n",
    "\n",
    "def read_tfrecord_files(location, num_files):\n",
    "    files = [location + f\"dataset_{file_num}.tfrecord\" for file_num in range(0, num_files)]\n",
    "    dataset = tf.data.TFRecordDataset(files)\n",
    "    dataset = dataset.shuffle(1000)\n",
    "    dataset = dataset.map(read_example)\n",
    "    dataset = dataset.batch(32).prefetch(1)\n",
    "    \n",
    "    return dataset"
   ]
  },
  {
   "cell_type": "code",
   "execution_count": 80,
   "metadata": {},
   "outputs": [],
   "source": [
    "num_files = 100\n",
    "location = \"./datasets/fashion_minst/train/\"\n",
    "\n",
    "new_train_data = read_tfrecord_files(location, num_files)\n",
    "new_val_data = read_tfrecord_files(\"./datasets/fashion_minst/val/\", 1)\n",
    "new_test_data = read_tfrecord_files(\"./datasets/fashion_minst/test/\", 1)"
   ]
  },
  {
   "cell_type": "code",
   "execution_count": 89,
   "metadata": {},
   "outputs": [],
   "source": [
    "class Standardization(keras.layers.Layer):\n",
    "    def adapt(self, data_sample):\n",
    "        self.means_ = np.mean(data_sample, axis=0, keepdims=True)\n",
    "        self.stds_ = np.std(data_sample, axis=0, keepdims=True)\n",
    "    def call(self, inputs):\n",
    "        return (inputs - self.means_) / (self.stds_ + keras.backend.epsilon())\n",
    "\n",
    "data_sample = np.concatenate(list(new_train_data.take(100).map(lambda example, label: example).as_numpy_iterator()))\n",
    "\n",
    "standardization = Standardization(input_shape=[28,28])\n",
    "\n",
    "standardization.adapt(data_sample)\n",
    "\n",
    "model = keras.models.Sequential()\n",
    "model.add(standardization)\n",
    "model.add(keras.layers.Flatten(input_shape=[28,28]))\n",
    "model.add(keras.layers.Dense(300, activation=\"relu\"))\n",
    "model.add(keras.layers.Dense(100, activation=\"relu\"))\n",
    "model.add(keras.layers.Dense(10, activation=\"softmax\"))\n",
    "\n",
    "model.compile(loss=\"sparse_categorical_crossentropy\",\n",
    "              optimizer=\"nadam\", metrics=[\"accuracy\"])"
   ]
  },
  {
   "cell_type": "code",
   "execution_count": 95,
   "metadata": {},
   "outputs": [
    {
     "name": "stdout",
     "output_type": "stream",
     "text": [
      "Epoch 1/50\n",
      "1719/1719 [==============================] - 5s 3ms/step - loss: 0.2158 - accuracy: 0.9188 - val_loss: 0.3595 - val_accuracy: 0.8850\n",
      "Epoch 2/50\n",
      "1719/1719 [==============================] - 5s 3ms/step - loss: 0.1984 - accuracy: 0.9255 - val_loss: 0.3897 - val_accuracy: 0.8866\n",
      "Epoch 3/50\n",
      "1719/1719 [==============================] - 5s 3ms/step - loss: 0.1826 - accuracy: 0.9309 - val_loss: 0.4206 - val_accuracy: 0.8848\n",
      "Epoch 4/50\n",
      "1719/1719 [==============================] - 5s 3ms/step - loss: 0.1731 - accuracy: 0.9340 - val_loss: 0.3864 - val_accuracy: 0.8896\n",
      "Epoch 5/50\n",
      "1719/1719 [==============================] - 5s 3ms/step - loss: 0.1574 - accuracy: 0.9403 - val_loss: 0.3674 - val_accuracy: 0.8898\n",
      "Epoch 6/50\n",
      "1719/1719 [==============================] - 5s 3ms/step - loss: 0.1523 - accuracy: 0.9430 - val_loss: 0.4167 - val_accuracy: 0.8892\n",
      "Epoch 7/50\n",
      "1719/1719 [==============================] - 5s 3ms/step - loss: 0.1372 - accuracy: 0.9488 - val_loss: 0.4377 - val_accuracy: 0.8912\n",
      "Epoch 8/50\n",
      "1719/1719 [==============================] - 5s 3ms/step - loss: 0.1342 - accuracy: 0.9503 - val_loss: 0.4319 - val_accuracy: 0.8924\n",
      "Epoch 9/50\n",
      "1719/1719 [==============================] - 6s 3ms/step - loss: 0.1262 - accuracy: 0.9536 - val_loss: 0.4633 - val_accuracy: 0.8868\n",
      "Epoch 10/50\n",
      "1719/1719 [==============================] - 5s 3ms/step - loss: 0.1178 - accuracy: 0.9552 - val_loss: 0.4764 - val_accuracy: 0.8874\n",
      "Epoch 11/50\n",
      "1719/1719 [==============================] - 5s 3ms/step - loss: 0.1148 - accuracy: 0.9591 - val_loss: 0.4639 - val_accuracy: 0.8954\n",
      "Epoch 12/50\n",
      "1719/1719 [==============================] - 5s 3ms/step - loss: 0.1130 - accuracy: 0.9601 - val_loss: 0.5026 - val_accuracy: 0.8930\n",
      "Epoch 13/50\n",
      "1719/1719 [==============================] - 5s 3ms/step - loss: 0.1058 - accuracy: 0.9622 - val_loss: 0.5501 - val_accuracy: 0.8878\n",
      "Epoch 14/50\n",
      "1719/1719 [==============================] - 6s 3ms/step - loss: 0.1046 - accuracy: 0.9626 - val_loss: 0.5356 - val_accuracy: 0.8944\n",
      "Epoch 15/50\n",
      "1719/1719 [==============================] - 6s 3ms/step - loss: 0.0999 - accuracy: 0.9636 - val_loss: 0.5443 - val_accuracy: 0.8908\n",
      "Epoch 16/50\n",
      "1719/1719 [==============================] - 5s 3ms/step - loss: 0.0952 - accuracy: 0.9652 - val_loss: 0.5611 - val_accuracy: 0.8912\n",
      "Epoch 17/50\n",
      "1719/1719 [==============================] - 5s 3ms/step - loss: 0.0875 - accuracy: 0.9683 - val_loss: 0.5779 - val_accuracy: 0.8900\n",
      "Epoch 18/50\n",
      "1719/1719 [==============================] - 5s 3ms/step - loss: 0.0854 - accuracy: 0.9700 - val_loss: 0.5930 - val_accuracy: 0.8908\n",
      "Epoch 19/50\n",
      "1719/1719 [==============================] - 5s 3ms/step - loss: 0.0824 - accuracy: 0.9704 - val_loss: 0.5672 - val_accuracy: 0.8886\n",
      "Epoch 20/50\n",
      "1719/1719 [==============================] - 5s 3ms/step - loss: 0.0818 - accuracy: 0.9709 - val_loss: 0.6436 - val_accuracy: 0.8876\n",
      "Epoch 21/50\n",
      "1719/1719 [==============================] - 6s 3ms/step - loss: 0.0780 - accuracy: 0.9717 - val_loss: 0.6217 - val_accuracy: 0.8870\n",
      "Epoch 22/50\n",
      "1719/1719 [==============================] - 5s 3ms/step - loss: 0.0760 - accuracy: 0.9723 - val_loss: 0.6371 - val_accuracy: 0.8958\n",
      "Epoch 23/50\n",
      "1719/1719 [==============================] - 5s 3ms/step - loss: 0.0785 - accuracy: 0.9724 - val_loss: 0.6624 - val_accuracy: 0.8866\n",
      "Epoch 24/50\n",
      "1719/1719 [==============================] - 6s 3ms/step - loss: 0.0713 - accuracy: 0.9746 - val_loss: 0.7146 - val_accuracy: 0.8928\n",
      "Epoch 25/50\n",
      "1719/1719 [==============================] - 5s 3ms/step - loss: 0.0716 - accuracy: 0.9753 - val_loss: 0.8102 - val_accuracy: 0.8882\n",
      "Epoch 26/50\n",
      "1719/1719 [==============================] - 5s 3ms/step - loss: 0.0729 - accuracy: 0.9752 - val_loss: 0.7385 - val_accuracy: 0.8904\n",
      "Epoch 27/50\n",
      "1719/1719 [==============================] - 6s 3ms/step - loss: 0.0671 - accuracy: 0.9760 - val_loss: 0.7680 - val_accuracy: 0.8928\n",
      "Epoch 28/50\n",
      "1719/1719 [==============================] - 5s 3ms/step - loss: 0.0761 - accuracy: 0.9744 - val_loss: 0.8625 - val_accuracy: 0.8912\n",
      "Epoch 29/50\n",
      "1719/1719 [==============================] - 5s 3ms/step - loss: 0.0627 - accuracy: 0.9786 - val_loss: 0.7689 - val_accuracy: 0.8938\n",
      "Epoch 30/50\n",
      "1719/1719 [==============================] - 6s 4ms/step - loss: 0.0634 - accuracy: 0.9779 - val_loss: 0.7867 - val_accuracy: 0.8948\n",
      "Epoch 31/50\n",
      "1719/1719 [==============================] - 6s 3ms/step - loss: 0.0677 - accuracy: 0.9772 - val_loss: 0.9633 - val_accuracy: 0.8868\n",
      "Epoch 32/50\n",
      "1719/1719 [==============================] - 7s 4ms/step - loss: 0.0731 - accuracy: 0.9777 - val_loss: 0.7627 - val_accuracy: 0.8948\n",
      "Epoch 33/50\n",
      "1719/1719 [==============================] - 6s 3ms/step - loss: 0.0578 - accuracy: 0.9799 - val_loss: 0.7952 - val_accuracy: 0.8920\n",
      "Epoch 34/50\n",
      "1719/1719 [==============================] - 5s 3ms/step - loss: 0.0583 - accuracy: 0.9804 - val_loss: 0.8572 - val_accuracy: 0.8958\n",
      "Epoch 35/50\n",
      "1719/1719 [==============================] - 5s 3ms/step - loss: 0.0610 - accuracy: 0.9800 - val_loss: 0.8610 - val_accuracy: 0.8902\n",
      "Epoch 36/50\n",
      "1719/1719 [==============================] - 6s 4ms/step - loss: 0.0588 - accuracy: 0.9805 - val_loss: 0.8768 - val_accuracy: 0.8936\n",
      "Epoch 37/50\n",
      "1719/1719 [==============================] - 5s 3ms/step - loss: 0.0509 - accuracy: 0.9821 - val_loss: 0.8992 - val_accuracy: 0.8934\n",
      "Epoch 38/50\n",
      "1719/1719 [==============================] - 5s 3ms/step - loss: 0.0626 - accuracy: 0.9800 - val_loss: 0.8853 - val_accuracy: 0.8928\n",
      "Epoch 39/50\n",
      "1719/1719 [==============================] - 5s 3ms/step - loss: 0.0521 - accuracy: 0.9828 - val_loss: 0.9211 - val_accuracy: 0.8964\n",
      "Epoch 40/50\n",
      "1719/1719 [==============================] - 5s 3ms/step - loss: 0.0573 - accuracy: 0.9814 - val_loss: 1.0197 - val_accuracy: 0.8960\n",
      "Epoch 41/50\n",
      "1719/1719 [==============================] - 5s 3ms/step - loss: 0.0559 - accuracy: 0.9823 - val_loss: 1.0053 - val_accuracy: 0.8934\n",
      "Epoch 42/50\n",
      "1719/1719 [==============================] - 5s 3ms/step - loss: 0.0549 - accuracy: 0.9815 - val_loss: 1.0095 - val_accuracy: 0.8908\n",
      "Epoch 43/50\n",
      "1719/1719 [==============================] - 6s 3ms/step - loss: 0.0489 - accuracy: 0.9836 - val_loss: 0.9983 - val_accuracy: 0.8836\n",
      "Epoch 44/50\n",
      "1719/1719 [==============================] - 6s 3ms/step - loss: 0.0509 - accuracy: 0.9840 - val_loss: 1.0008 - val_accuracy: 0.8946\n",
      "Epoch 45/50\n",
      "1719/1719 [==============================] - 5s 3ms/step - loss: 0.0578 - accuracy: 0.9826 - val_loss: 0.8984 - val_accuracy: 0.8980\n",
      "Epoch 46/50\n",
      "1719/1719 [==============================] - 6s 3ms/step - loss: 0.0517 - accuracy: 0.9837 - val_loss: 1.0238 - val_accuracy: 0.8978\n",
      "Epoch 47/50\n",
      "1719/1719 [==============================] - 6s 4ms/step - loss: 0.0470 - accuracy: 0.9850 - val_loss: 0.9375 - val_accuracy: 0.8982\n",
      "Epoch 48/50\n",
      "1719/1719 [==============================] - 5s 3ms/step - loss: 0.0457 - accuracy: 0.9853 - val_loss: 1.0429 - val_accuracy: 0.8936\n",
      "Epoch 49/50\n",
      "1719/1719 [==============================] - 5s 3ms/step - loss: 0.0520 - accuracy: 0.9830 - val_loss: 1.0853 - val_accuracy: 0.8898\n",
      "Epoch 50/50\n",
      "1719/1719 [==============================] - 6s 4ms/step - loss: 0.0550 - accuracy: 0.9834 - val_loss: 1.0793 - val_accuracy: 0.8924\n"
     ]
    },
    {
     "data": {
      "text/plain": [
       "<tensorflow.python.keras.callbacks.History at 0x20deba188b0>"
      ]
     },
     "execution_count": 95,
     "metadata": {},
     "output_type": "execute_result"
    }
   ],
   "source": [
    "from datetime import datetime\n",
    "logs = os.path.join(os.curdir, \"training_logs\", \"run_\" + datetime.now().strftime(\"%Y%m%d_%H%M%S\"))\n",
    "\n",
    "tensorboard_cb = tf.keras.callbacks.TensorBoard(log_dir=logs, histogram_freq=1, profile_batch=10)\n",
    "\n",
    "model.fit(new_train_data, epochs=50, validation_data=new_val_data, callbacks=[tensorboard_cb])"
   ]
  },
  {
   "cell_type": "code",
   "execution_count": 91,
   "metadata": {},
   "outputs": [],
   "source": [
    "%load_ext tensorboard"
   ]
  },
  {
   "cell_type": "code",
   "execution_count": 94,
   "metadata": {},
   "outputs": [
    {
     "data": {
      "text/plain": [
       "Launching TensorBoard..."
      ]
     },
     "metadata": {},
     "output_type": "display_data"
    },
    {
     "ename": "KeyboardInterrupt",
     "evalue": "",
     "output_type": "error",
     "traceback": [
      "\u001b[1;31m---------------------------------------------------------------------------\u001b[0m",
      "\u001b[1;31mKeyboardInterrupt\u001b[0m                         Traceback (most recent call last)",
      "\u001b[1;32m<ipython-input-94-78c4651481c7>\u001b[0m in \u001b[0;36m<module>\u001b[1;34m\u001b[0m\n\u001b[1;32m----> 1\u001b[1;33m \u001b[0mget_ipython\u001b[0m\u001b[1;33m(\u001b[0m\u001b[1;33m)\u001b[0m\u001b[1;33m.\u001b[0m\u001b[0mrun_line_magic\u001b[0m\u001b[1;33m(\u001b[0m\u001b[1;34m'tensorboard'\u001b[0m\u001b[1;33m,\u001b[0m \u001b[1;34m'--logdir=./training_logs --port=6008'\u001b[0m\u001b[1;33m)\u001b[0m\u001b[1;33m\u001b[0m\u001b[1;33m\u001b[0m\u001b[0m\n\u001b[0m",
      "\u001b[1;32m~\\Anaconda3\\lib\\site-packages\\IPython\\core\\interactiveshell.py\u001b[0m in \u001b[0;36mrun_line_magic\u001b[1;34m(self, magic_name, line, _stack_depth)\u001b[0m\n\u001b[0;32m   2325\u001b[0m                 \u001b[0mkwargs\u001b[0m\u001b[1;33m[\u001b[0m\u001b[1;34m'local_ns'\u001b[0m\u001b[1;33m]\u001b[0m \u001b[1;33m=\u001b[0m \u001b[0mself\u001b[0m\u001b[1;33m.\u001b[0m\u001b[0mget_local_scope\u001b[0m\u001b[1;33m(\u001b[0m\u001b[0mstack_depth\u001b[0m\u001b[1;33m)\u001b[0m\u001b[1;33m\u001b[0m\u001b[1;33m\u001b[0m\u001b[0m\n\u001b[0;32m   2326\u001b[0m             \u001b[1;32mwith\u001b[0m \u001b[0mself\u001b[0m\u001b[1;33m.\u001b[0m\u001b[0mbuiltin_trap\u001b[0m\u001b[1;33m:\u001b[0m\u001b[1;33m\u001b[0m\u001b[1;33m\u001b[0m\u001b[0m\n\u001b[1;32m-> 2327\u001b[1;33m                 \u001b[0mresult\u001b[0m \u001b[1;33m=\u001b[0m \u001b[0mfn\u001b[0m\u001b[1;33m(\u001b[0m\u001b[1;33m*\u001b[0m\u001b[0margs\u001b[0m\u001b[1;33m,\u001b[0m \u001b[1;33m**\u001b[0m\u001b[0mkwargs\u001b[0m\u001b[1;33m)\u001b[0m\u001b[1;33m\u001b[0m\u001b[1;33m\u001b[0m\u001b[0m\n\u001b[0m\u001b[0;32m   2328\u001b[0m             \u001b[1;32mreturn\u001b[0m \u001b[0mresult\u001b[0m\u001b[1;33m\u001b[0m\u001b[1;33m\u001b[0m\u001b[0m\n\u001b[0;32m   2329\u001b[0m \u001b[1;33m\u001b[0m\u001b[0m\n",
      "\u001b[1;32m~\\Anaconda3\\lib\\site-packages\\tensorboard\\notebook.py\u001b[0m in \u001b[0;36m_start_magic\u001b[1;34m(line)\u001b[0m\n\u001b[0;32m    126\u001b[0m \u001b[1;32mdef\u001b[0m \u001b[0m_start_magic\u001b[0m\u001b[1;33m(\u001b[0m\u001b[0mline\u001b[0m\u001b[1;33m)\u001b[0m\u001b[1;33m:\u001b[0m\u001b[1;33m\u001b[0m\u001b[1;33m\u001b[0m\u001b[0m\n\u001b[0;32m    127\u001b[0m     \u001b[1;34m\"\"\"Implementation of the `%tensorboard` line magic.\"\"\"\u001b[0m\u001b[1;33m\u001b[0m\u001b[1;33m\u001b[0m\u001b[0m\n\u001b[1;32m--> 128\u001b[1;33m     \u001b[1;32mreturn\u001b[0m \u001b[0mstart\u001b[0m\u001b[1;33m(\u001b[0m\u001b[0mline\u001b[0m\u001b[1;33m)\u001b[0m\u001b[1;33m\u001b[0m\u001b[1;33m\u001b[0m\u001b[0m\n\u001b[0m\u001b[0;32m    129\u001b[0m \u001b[1;33m\u001b[0m\u001b[0m\n\u001b[0;32m    130\u001b[0m \u001b[1;33m\u001b[0m\u001b[0m\n",
      "\u001b[1;32m~\\Anaconda3\\lib\\site-packages\\tensorboard\\notebook.py\u001b[0m in \u001b[0;36mstart\u001b[1;34m(args_string)\u001b[0m\n\u001b[0;32m    160\u001b[0m \u001b[1;33m\u001b[0m\u001b[0m\n\u001b[0;32m    161\u001b[0m     \u001b[0mparsed_args\u001b[0m \u001b[1;33m=\u001b[0m \u001b[0mshlex\u001b[0m\u001b[1;33m.\u001b[0m\u001b[0msplit\u001b[0m\u001b[1;33m(\u001b[0m\u001b[0margs_string\u001b[0m\u001b[1;33m,\u001b[0m \u001b[0mcomments\u001b[0m\u001b[1;33m=\u001b[0m\u001b[1;32mTrue\u001b[0m\u001b[1;33m,\u001b[0m \u001b[0mposix\u001b[0m\u001b[1;33m=\u001b[0m\u001b[1;32mTrue\u001b[0m\u001b[1;33m)\u001b[0m\u001b[1;33m\u001b[0m\u001b[1;33m\u001b[0m\u001b[0m\n\u001b[1;32m--> 162\u001b[1;33m     \u001b[0mstart_result\u001b[0m \u001b[1;33m=\u001b[0m \u001b[0mmanager\u001b[0m\u001b[1;33m.\u001b[0m\u001b[0mstart\u001b[0m\u001b[1;33m(\u001b[0m\u001b[0mparsed_args\u001b[0m\u001b[1;33m)\u001b[0m\u001b[1;33m\u001b[0m\u001b[1;33m\u001b[0m\u001b[0m\n\u001b[0m\u001b[0;32m    163\u001b[0m \u001b[1;33m\u001b[0m\u001b[0m\n\u001b[0;32m    164\u001b[0m     \u001b[1;32mif\u001b[0m \u001b[0misinstance\u001b[0m\u001b[1;33m(\u001b[0m\u001b[0mstart_result\u001b[0m\u001b[1;33m,\u001b[0m \u001b[0mmanager\u001b[0m\u001b[1;33m.\u001b[0m\u001b[0mStartLaunched\u001b[0m\u001b[1;33m)\u001b[0m\u001b[1;33m:\u001b[0m\u001b[1;33m\u001b[0m\u001b[1;33m\u001b[0m\u001b[0m\n",
      "\u001b[1;32m~\\Anaconda3\\lib\\site-packages\\tensorboard\\manager.py\u001b[0m in \u001b[0;36mstart\u001b[1;34m(arguments, timeout)\u001b[0m\n\u001b[0;32m    423\u001b[0m     \u001b[0mend_time_seconds\u001b[0m \u001b[1;33m=\u001b[0m \u001b[0mstart_time_seconds\u001b[0m \u001b[1;33m+\u001b[0m \u001b[0mtimeout\u001b[0m\u001b[1;33m.\u001b[0m\u001b[0mtotal_seconds\u001b[0m\u001b[1;33m(\u001b[0m\u001b[1;33m)\u001b[0m\u001b[1;33m\u001b[0m\u001b[1;33m\u001b[0m\u001b[0m\n\u001b[0;32m    424\u001b[0m     \u001b[1;32mwhile\u001b[0m \u001b[0mtime\u001b[0m\u001b[1;33m.\u001b[0m\u001b[0mtime\u001b[0m\u001b[1;33m(\u001b[0m\u001b[1;33m)\u001b[0m \u001b[1;33m<\u001b[0m \u001b[0mend_time_seconds\u001b[0m\u001b[1;33m:\u001b[0m\u001b[1;33m\u001b[0m\u001b[1;33m\u001b[0m\u001b[0m\n\u001b[1;32m--> 425\u001b[1;33m         \u001b[0mtime\u001b[0m\u001b[1;33m.\u001b[0m\u001b[0msleep\u001b[0m\u001b[1;33m(\u001b[0m\u001b[0mpoll_interval_seconds\u001b[0m\u001b[1;33m)\u001b[0m\u001b[1;33m\u001b[0m\u001b[1;33m\u001b[0m\u001b[0m\n\u001b[0m\u001b[0;32m    426\u001b[0m         \u001b[0msubprocess_result\u001b[0m \u001b[1;33m=\u001b[0m \u001b[0mp\u001b[0m\u001b[1;33m.\u001b[0m\u001b[0mpoll\u001b[0m\u001b[1;33m(\u001b[0m\u001b[1;33m)\u001b[0m\u001b[1;33m\u001b[0m\u001b[1;33m\u001b[0m\u001b[0m\n\u001b[0;32m    427\u001b[0m         \u001b[1;32mif\u001b[0m \u001b[0msubprocess_result\u001b[0m \u001b[1;32mis\u001b[0m \u001b[1;32mnot\u001b[0m \u001b[1;32mNone\u001b[0m\u001b[1;33m:\u001b[0m\u001b[1;33m\u001b[0m\u001b[1;33m\u001b[0m\u001b[0m\n",
      "\u001b[1;31mKeyboardInterrupt\u001b[0m: "
     ]
    }
   ],
   "source": [
    "%tensorboard --logdir=./training_logs --port=6008"
   ]
  },
  {
   "cell_type": "code",
   "execution_count": null,
   "metadata": {},
   "outputs": [],
   "source": []
  }
 ],
 "metadata": {
  "kernelspec": {
   "display_name": "Python 3",
   "language": "python",
   "name": "python3"
  },
  "language_info": {
   "codemirror_mode": {
    "name": "ipython",
    "version": 3
   },
   "file_extension": ".py",
   "mimetype": "text/x-python",
   "name": "python",
   "nbconvert_exporter": "python",
   "pygments_lexer": "ipython3",
   "version": "3.8.5"
  }
 },
 "nbformat": 4,
 "nbformat_minor": 4
}
